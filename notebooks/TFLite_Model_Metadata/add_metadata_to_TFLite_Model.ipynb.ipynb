{
 "cells": [
  {
   "cell_type": "markdown",
   "metadata": {},
   "source": [
    "# Add Metadata to the model TFLite\n",
    "\n",
    "This notebook demonstrates the process of improving a metadata writer for TensorFlow Lite models. We focus on error handling, code modularization, metadata verification, and logging for better maintainability and readability. \n",
    "\n",
    "The metadata writer is a Python script that generates metadata for a TensorFlow Lite model. The metadata includes information about the model's input and output tensors, and the model's input and output tensor types. The metadata is stored in a JSON file that can be used by other applications to understand the model's structure."
   ]
  },
  {
   "cell_type": "markdown",
   "metadata": {},
   "source": [
    "## Setup\n",
    "\n",
    "First, we import the necessary libraries and set up logging for our operations."
   ]
  },
  {
   "cell_type": "code",
   "execution_count": 1,
   "metadata": {},
   "outputs": [
    {
     "name": "stdout",
     "output_type": "stream",
     "text": [
      "Name: tensorflow\n",
      "Version: 2.4.0\n",
      "Summary: TensorFlow is an open source machine learning framework for everyone.\n",
      "Home-page: https://www.tensorflow.org/\n",
      "Author: Google Inc.\n",
      "Author-email: packages@tensorflow.org\n",
      "License: Apache 2.0\n",
      "Location: c:\\users\\lenovo\\.virtualenvs\\github_project_ml_side-f19xa0xl\\lib\\site-packages\n",
      "Requires: absl-py, astunparse, flatbuffers, gast, google-pasta, grpcio, h5py, keras-preprocessing, numpy, opt-einsum, protobuf, six, tensorboard, tensorflow-estimator, termcolor, typing-extensions, wheel, wrapt\n",
      "Required-by: \n",
      "Name: tflite-support\n",
      "Version: 0.3.1\n",
      "Summary: TFLite Support is a toolkit that helps users to develop ML and deploy TFLite models onto mobile devices.\n",
      "Home-page: https://www.tensorflow.org/\n",
      "Author: Google, LLC.\n",
      "Author-email: packages@tensorflow.org\n",
      "License: Apache 2.0\n",
      "Location: c:\\users\\lenovo\\.virtualenvs\\github_project_ml_side-f19xa0xl\\lib\\site-packages\n",
      "Requires: absl-py, flatbuffers, numpy, pybind11\n",
      "Required-by: \n"
     ]
    }
   ],
   "source": [
    "# Show the TensorFlow version\n",
    "!pip show tensorflow\n",
    "\n",
    "# Show the tflite-support version\n",
    "!pip show tflite-support"
   ]
  },
  {
   "cell_type": "code",
   "execution_count": 11,
   "metadata": {},
   "outputs": [],
   "source": [
    "# Import the required libraries\n",
    "import logging\n",
    "import os\n",
    "import json\n",
    "import tensorflow as tf\n",
    "from tflite_support import metadata as _metadata\n",
    "from tflite_support.metadata_writers import image_classifier, writer_utils\n",
    "from tflite_support import metadata_schema_py_generated as _metadata_fb\n",
    "\n",
    "# Setup logging\n",
    "logging.basicConfig(level=logging.INFO)"
   ]
  },
  {
   "cell_type": "markdown",
   "metadata": {},
   "source": [
    "### Utility Functions\n",
    "\n",
    "Here, we define utility functions for sorting classes, writing labels to a file, adding metadata to the model, and verifying the metadata."
   ]
  },
  {
   "cell_type": "code",
   "execution_count": 3,
   "metadata": {},
   "outputs": [],
   "source": [
    "def sort_classes(classes):\n",
    "    \"\"\"Sort classes alphabetically.\"\"\"\n",
    "    return sorted(classes)"
   ]
  },
  {
   "cell_type": "code",
   "execution_count": 4,
   "metadata": {},
   "outputs": [],
   "source": [
    "def write_labels_to_file(label_path, classes):\n",
    "    \"\"\"Write the class labels to a file.\"\"\"\n",
    "    os.makedirs(os.path.dirname(label_path), exist_ok=True)\n",
    "    content_to_write = \"\\n\".join(classes) + \"\\n\"\n",
    "    try:\n",
    "        if os.path.exists(label_path):\n",
    "            with open(label_path, 'r') as f:\n",
    "                existing_content = f.read()\n",
    "            if content_to_write == existing_content:\n",
    "                logging.info(\"The file already exists with the same content. No need to write again.\")\n",
    "                return\n",
    "        with open(label_path, 'w') as f:\n",
    "            f.write(content_to_write)\n",
    "        logging.info(\"Labels written to file.\")\n",
    "    except IOError as e:\n",
    "        logging.error(f\"Failed to write labels to file: {e}\")"
   ]
  },
  {
   "cell_type": "code",
   "execution_count": 5,
   "metadata": {},
   "outputs": [],
   "source": [
    "def add_metadata_to_model(tflite_model_path, tflite_model_with_metadata_path, label_path):\n",
    "    \"\"\"Add metadata to the TFLite model.\"\"\"\n",
    "    try:\n",
    "        writer = image_classifier.MetadataWriter.create_for_inference(\n",
    "            writer_utils.load_file(tflite_model_path),\n",
    "            input_norm_mean=[0],\n",
    "            input_norm_std=[1],\n",
    "            label_file_paths=[label_path]\n",
    "        )\n",
    "        writer_utils.save_file(writer.populate(), tflite_model_with_metadata_path)\n",
    "        logging.info(\"Metadata added to the model successfully.\")\n",
    "    except Exception as e:\n",
    "        logging.error(f\"Failed to add metadata to the model: {e}\")"
   ]
  },
  {
   "cell_type": "code",
   "execution_count": 6,
   "metadata": {},
   "outputs": [],
   "source": [
    "def verify_metadata(tflite_model_with_metadata_path):\n",
    "    \"\"\"Verify the metadata in the TFLite model.\"\"\"\n",
    "    try:\n",
    "        displayer = _metadata.MetadataDisplayer.with_model_file(tflite_model_with_metadata_path)\n",
    "        metadata_json = displayer.get_metadata_json()\n",
    "        logging.info(f\"Metadata in the model: {metadata_json}\")\n",
    "    except Exception as e:\n",
    "        logging.error(f\"Failed to verify metadata: {e}\")"
   ]
  },
  {
   "cell_type": "markdown",
   "metadata": {},
   "source": [
    "### Adding Metadata to the Model\n",
    "\n",
    "With our utility functions in place, we can now add metadata to our TFLite model. We will sort our classes, write the labels to a file, add metadata to the model, and then verify the metadata has been added correctly."
   ]
  },
  {
   "cell_type": "code",
   "execution_count": 7,
   "metadata": {},
   "outputs": [],
   "source": [
    "# Define the classes\n",
    "SKIN_CLASS = ['acnes', 'blackheads', 'darkspots', 'normal', 'wrinkles']\n",
    "sorted_classes = sort_classes(SKIN_CLASS)\n",
    "\n",
    "# Define the paths\n",
    "LABELS_PATH = './metadata/labels.txt'\n",
    "TFLITE_MODEL_PATH = './models/original_model.tflite'\n",
    "TFLITE_MODEL_WITH_METADATA_PATH = './models/model_with_metadata.tflite'"
   ]
  },
  {
   "cell_type": "code",
   "execution_count": 8,
   "metadata": {},
   "outputs": [
    {
     "name": "stderr",
     "output_type": "stream",
     "text": [
      "INFO:root:The file already exists with the same content. No need to write again.\n",
      "INFO:root:Metadata added to the model successfully.\n",
      "INFO:root:Metadata in the model: {\n",
      "  \"name\": \"ImageClassifier\",\n",
      "  \"description\": \"Identify the most prominent object in the image from a known set of categories.\",\n",
      "  \"subgraph_metadata\": [\n",
      "    {\n",
      "      \"input_tensor_metadata\": [\n",
      "        {\n",
      "          \"name\": \"image\",\n",
      "          \"description\": \"Input image to be classified.\",\n",
      "          \"content\": {\n",
      "            \"content_properties_type\": \"ImageProperties\",\n",
      "            \"content_properties\": {\n",
      "              \"color_space\": \"RGB\"\n",
      "            }\n",
      "          },\n",
      "          \"process_units\": [\n",
      "            {\n",
      "              \"options_type\": \"NormalizationOptions\",\n",
      "              \"options\": {\n",
      "                \"mean\": [\n",
      "                  0.0\n",
      "                ],\n",
      "                \"std\": [\n",
      "                  1.0\n",
      "                ]\n",
      "              }\n",
      "            }\n",
      "          ],\n",
      "          \"stats\": {\n",
      "            \"max\": [\n",
      "              255.0\n",
      "            ],\n",
      "            \"min\": [\n",
      "              0.0\n",
      "            ]\n",
      "          }\n",
      "        }\n",
      "      ],\n",
      "      \"output_tensor_metadata\": [\n",
      "        {\n",
      "          \"name\": \"probability\",\n",
      "          \"description\": \"Probabilities of the labels respectively.\",\n",
      "          \"content\": {\n",
      "            \"content_properties_type\": \"FeatureProperties\",\n",
      "            \"content_properties\": {\n",
      "            }\n",
      "          },\n",
      "          \"stats\": {\n",
      "            \"max\": [\n",
      "              1.0\n",
      "            ],\n",
      "            \"min\": [\n",
      "              0.0\n",
      "            ]\n",
      "          },\n",
      "          \"associated_files\": [\n",
      "            {\n",
      "              \"name\": \"labels.txt\",\n",
      "              \"description\": \"Labels for categories that the model can recognize.\",\n",
      "              \"type\": \"TENSOR_AXIS_LABELS\"\n",
      "            }\n",
      "          ]\n",
      "        }\n",
      "      ]\n",
      "    }\n",
      "  ],\n",
      "  \"min_parser_version\": \"1.0.0\"\n",
      "}\n",
      "\n"
     ]
    }
   ],
   "source": [
    "# Write the labels to a file\n",
    "write_labels_to_file(LABELS_PATH, sorted_classes)\n",
    "\n",
    "# Add metadata to the model\n",
    "add_metadata_to_model(TFLITE_MODEL_PATH, TFLITE_MODEL_WITH_METADATA_PATH, LABELS_PATH)\n",
    "\n",
    "# Verify the metadata in the model\n",
    "verify_metadata(TFLITE_MODEL_WITH_METADATA_PATH)"
   ]
  },
  {
   "cell_type": "markdown",
   "metadata": {},
   "source": [
    "## Write Metadata to the JSON File\n",
    "\n",
    "We will write the metadata to a JSON file and verify that the metadata has been added correctly."
   ]
  },
  {
   "cell_type": "code",
   "execution_count": 9,
   "metadata": {},
   "outputs": [],
   "source": [
    "MODEL_INFO_PATH = './metadata/model_info.json'\n",
    "\n",
    "# Define the function to write the model info to a file\n",
    "def write_metadata_to_json(tflite_model_with_metadata_path, model_info_path):\n",
    "    \"\"\"Write the metadata from the TFLite model to a JSON file.\"\"\"\n",
    "    try:\n",
    "        # Extract metadata from the TFLite model\n",
    "        displayer = _metadata.MetadataDisplayer.with_model_file(tflite_model_with_metadata_path)\n",
    "        metadata_json_str = displayer.get_metadata_json()\n",
    "        metadata_dict = json.loads(metadata_json_str)\n",
    "        \n",
    "        # Write the metadata to a JSON file\n",
    "        os.makedirs(os.path.dirname(model_info_path), exist_ok=True)\n",
    "        with open(model_info_path, 'w') as json_file:\n",
    "            json.dump(metadata_dict, json_file, indent=4)\n",
    "        \n",
    "        logging.info(f\"Metadata written to JSON file: {model_info_path}\")\n",
    "    except Exception as e:\n",
    "        logging.error(f\"Failed to write metadata to JSON file: {e}\")"
   ]
  },
  {
   "cell_type": "code",
   "execution_count": 12,
   "metadata": {},
   "outputs": [
    {
     "name": "stderr",
     "output_type": "stream",
     "text": [
      "INFO:root:Metadata written to JSON file: ./metadata/model_info.json\n"
     ]
    }
   ],
   "source": [
    "# Write the metadata to the JSON file\n",
    "write_metadata_to_json(TFLITE_MODEL_WITH_METADATA_PATH, MODEL_INFO_PATH)"
   ]
  },
  {
   "cell_type": "markdown",
   "metadata": {},
   "source": [
    "## Verify the Metadata in the Model\n",
    "\n",
    "Finally, we will verify the metadata in the model by loading the model and checking the metadata."
   ]
  },
  {
   "cell_type": "code",
   "execution_count": 16,
   "metadata": {},
   "outputs": [],
   "source": [
    "# Define the function to print the metadata JSON\n",
    "def print_metadata_json(tflite_model_with_metadata_path):\n",
    "    \"\"\"Print the metadata JSON from the TFLite model.\"\"\"\n",
    "    try:\n",
    "        displayer = _metadata.MetadataDisplayer.with_model_file(tflite_model_with_metadata_path)\n",
    "        metadata_json = displayer.get_metadata_json()\n",
    "        print(f\"Metadata in the model: \\n\\n{metadata_json}\")\n",
    "    except Exception as e:\n",
    "        print(f\"Failed to print metadata: {e}\")"
   ]
  },
  {
   "cell_type": "code",
   "execution_count": 17,
   "metadata": {},
   "outputs": [
    {
     "name": "stdout",
     "output_type": "stream",
     "text": [
      "Metadata in the model: \n",
      "\n",
      "{\n",
      "  \"name\": \"ImageClassifier\",\n",
      "  \"description\": \"Identify the most prominent object in the image from a known set of categories.\",\n",
      "  \"subgraph_metadata\": [\n",
      "    {\n",
      "      \"input_tensor_metadata\": [\n",
      "        {\n",
      "          \"name\": \"image\",\n",
      "          \"description\": \"Input image to be classified.\",\n",
      "          \"content\": {\n",
      "            \"content_properties_type\": \"ImageProperties\",\n",
      "            \"content_properties\": {\n",
      "              \"color_space\": \"RGB\"\n",
      "            }\n",
      "          },\n",
      "          \"process_units\": [\n",
      "            {\n",
      "              \"options_type\": \"NormalizationOptions\",\n",
      "              \"options\": {\n",
      "                \"mean\": [\n",
      "                  0.0\n",
      "                ],\n",
      "                \"std\": [\n",
      "                  1.0\n",
      "                ]\n",
      "              }\n",
      "            }\n",
      "          ],\n",
      "          \"stats\": {\n",
      "            \"max\": [\n",
      "              255.0\n",
      "            ],\n",
      "            \"min\": [\n",
      "              0.0\n",
      "            ]\n",
      "          }\n",
      "        }\n",
      "      ],\n",
      "      \"output_tensor_metadata\": [\n",
      "        {\n",
      "          \"name\": \"probability\",\n",
      "          \"description\": \"Probabilities of the labels respectively.\",\n",
      "          \"content\": {\n",
      "            \"content_properties_type\": \"FeatureProperties\",\n",
      "            \"content_properties\": {\n",
      "            }\n",
      "          },\n",
      "          \"stats\": {\n",
      "            \"max\": [\n",
      "              1.0\n",
      "            ],\n",
      "            \"min\": [\n",
      "              0.0\n",
      "            ]\n",
      "          },\n",
      "          \"associated_files\": [\n",
      "            {\n",
      "              \"name\": \"labels.txt\",\n",
      "              \"description\": \"Labels for categories that the model can recognize.\",\n",
      "              \"type\": \"TENSOR_AXIS_LABELS\"\n",
      "            }\n",
      "          ]\n",
      "        }\n",
      "      ]\n",
      "    }\n",
      "  ],\n",
      "  \"min_parser_version\": \"1.0.0\"\n",
      "}\n",
      "\n"
     ]
    }
   ],
   "source": [
    "# Load the TFLite model with metadata and print the metadata JSON\n",
    "TFLITE_MODEL_WITH_METADATA_PATH = './models/model_with_metadata.tflite'\n",
    "print_metadata_json(TFLITE_MODEL_WITH_METADATA_PATH)"
   ]
  },
  {
   "cell_type": "markdown",
   "metadata": {},
   "source": [
    "## Conclusion\n",
    "\n",
    "In this notebook, we create the metadata writer by adding error handling, modularizing the code, verifying the metadata, and implementing logging. \n",
    "\n",
    "By writing the metadata to a JSON file, we ensure that all relevant information about the TFLite model is easily accessible and can be utilized by other applications or for further analysis. This step completes our process of enhancing the metadata writer, making our TFLite model more understandable and easier to integrate into applications.\n",
    "\n",
    "This approach enhances the maintainability and readability of the code, making it easier to manage and update in the future."
   ]
  }
 ],
 "metadata": {
  "kernelspec": {
   "display_name": "GitHub_Project_ML_Side-f19Xa0Xl",
   "language": "python",
   "name": "python3"
  },
  "language_info": {
   "codemirror_mode": {
    "name": "ipython",
    "version": 3
   },
   "file_extension": ".py",
   "mimetype": "text/x-python",
   "name": "python",
   "nbconvert_exporter": "python",
   "pygments_lexer": "ipython3",
   "version": "3.8.0"
  }
 },
 "nbformat": 4,
 "nbformat_minor": 2
}
