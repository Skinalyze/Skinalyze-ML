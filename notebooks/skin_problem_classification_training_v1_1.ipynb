{
 "cells": [
  {
   "cell_type": "markdown",
   "metadata": {},
   "source": [
    "# Skin Problem Classification Notebook \n",
    "---"
   ]
  },
  {
   "cell_type": "markdown",
   "metadata": {},
   "source": [
    "## Team Information\n",
    "\n",
    "**Team ID:** C241-PS385  \n",
    "\n",
    "**Members:**    \n",
    "- Stefanus Bernard Melkisedek - [GitHub Profile](https://github.com/stefansphtr)\n",
    "- Debby Trinita - [GitHub Profile](https://github.com/debbytrinita)\n",
    "- Mhd. Reza Kurniawan Lubis - [GitHub Profile](https://github.com/rezakur)"
   ]
  },
  {
   "cell_type": "markdown",
   "metadata": {},
   "source": [
    "## Chosen Development Environment\n",
    "\n",
    "For this project, our team opted to utilize Google Colab as our primary development environment. The decision to use Google Colab was primarily driven by its provision of complimentary access to GPU and TPU resources. These resources significantly expedite the model training process, thereby enhancing our productivity and efficiency."
   ]
  },
  {
   "cell_type": "markdown",
   "metadata": {},
   "source": [
    "## 1. Import Libraries"
   ]
  },
  {
   "cell_type": "code",
   "execution_count": null,
   "metadata": {},
   "outputs": [],
   "source": [
    "# Standard library imports\n",
    "import os\n",
    "import random\n",
    "import shutil\n",
    "import zipfile\n",
    "\n",
    "# Third-party imports\n",
    "import matplotlib.image as mpimg\n",
    "import matplotlib.pyplot as plt\n",
    "import numpy as np\n",
    "import pandas as pd\n",
    "import tensorflow as tf\n",
    "from tensorflow.keras.preprocessing.image import ImageDataGenerator\n",
    "from tensorflow.keras.layers import Conv2D, MaxPooling2D, Flatten, Dense, Dropout\n",
    "from tensorflow.keras.optimizers import Adam"
   ]
  },
  {
   "cell_type": "markdown",
   "metadata": {},
   "source": [
    "## 2. Load and Preprocess Data\n",
    "\n",
    "This section will cover the data loading and preprocessing steps. \n",
    "\n",
    "The step by step process is as follows:\n",
    "1. **Mounting Google Drive** - This step is necessary to access the dataset stored in Google Drive.\n",
    "   \n",
    "2. **Extracting the Dataset** - The dataset is stored in a zip file. We will extract the contents of the zip file to access the dataset.\n",
    "   \n",
    "3. **Copying the Data to the Local Directory** - We will copy the dataset to the local directory to facilitate data loading.\n",
    "   \n",
    "4. **Defining Directories and Parameters** - We will define the directories and parameters required for data loading.\n",
    "   \n",
    "5. **Checking Column Names** - We will check the column names to ensure that they are clean and consistent.\n",
    "   \n",
    "6. **Cleaning Column Names** - We will clean the column names to ensure that they are consistent and easy to work with."
   ]
  },
  {
   "cell_type": "markdown",
   "metadata": {},
   "source": [
    "### 2.1 Mounting Google Drive\n",
    "\n",
    "The code mounts Google Drive to access the dataset stored there."
   ]
  },
  {
   "cell_type": "code",
   "execution_count": null,
   "metadata": {},
   "outputs": [],
   "source": [
    "# Mount Google Drive\n",
    "from google.colab import drive\n",
    "drive.mount('/content/drive', force_remount=True)"
   ]
  },
  {
   "cell_type": "markdown",
   "metadata": {},
   "source": [
    "### 2.2 Extracting the Dataset\n",
    "\n",
    "The code defines the path to the dataset zip file and the path where the dataset will be extracted. It then checks if the data is already extracted. If not, it extracts the zip file."
   ]
  },
  {
   "cell_type": "code",
   "execution_count": null,
   "metadata": {},
   "outputs": [],
   "source": [
    "# Define the path to the dataset zip file\n",
    "dataset_zip_file_path = '/content/drive/Shareddrives/Capstone_Project/Machine_Learning/data/skin_problem_dataset.zip'\n",
    "\n",
    "# Define the path where the dataset will be extracted\n",
    "extraction_path = '/content/drive/Shareddrives/Capstone_Project/Machine_Learning/data/'\n",
    "\n",
    "# Check if the data is already extracted\n",
    "if not os.path.exists(extraction_path):\n",
    "    # Open the dataset zip file in read mode\n",
    "    with zipfile.ZipFile(dataset_zip_file_path, 'r') as dataset_zip_file:\n",
    "        try:\n",
    "            # Extract all files from the dataset zip file to the defined path\n",
    "            dataset_zip_file.extractall(extraction_path)\n",
    "        except Exception as e:\n",
    "            print(f\"An error occurred while extracting the zip file: {e}\")\n",
    "else:\n",
    "    print(\"Data is already extracted.\")"
   ]
  },
  {
   "cell_type": "markdown",
   "metadata": {},
   "source": [
    "### 2.3 Copying the Data to the Local Directory\n",
    "\n",
    "The code defines the source and destination directories and copies the data from the source to the destination."
   ]
  },
  {
   "cell_type": "code",
   "execution_count": null,
   "metadata": {},
   "outputs": [],
   "source": [
    "# Define source and destination directories\n",
    "source_dir = '/content/drive/Shareddrives/Capstone_Project/Machine_Learning/data/'\n",
    "destination_dir = '/content/data/'"
   ]
  },
  {
   "cell_type": "code",
   "execution_count": null,
   "metadata": {},
   "outputs": [],
   "source": [
    "# Copy the data to the local environment\n",
    "try:\n",
    "    if not os.path.exists(destination_dir):\n",
    "        shutil.copytree(source_dir, destination_dir)\n",
    "    else:\n",
    "        print(\"Destination directory already exists. Files were not copied.\")\n",
    "except Exception as e:\n",
    "    print(f\"An error occurred while copying files: {e}\")"
   ]
  },
  {
   "cell_type": "markdown",
   "metadata": {},
   "source": [
    "### 2.4 Defining Directories and Parameters\n",
    "\n",
    "The code defines the directories for the training, validation, and test sets. It also defines the batch size and image size."
   ]
  },
  {
   "cell_type": "code",
   "execution_count": null,
   "metadata": {},
   "outputs": [],
   "source": [
    "# Define the directories\n",
    "train_dir = os.path.join(destination_dir, 'train')\n",
    "val_dir = os.path.join(destination_dir, 'valid')\n",
    "test_dir = os.path.join(destination_dir, 'test')"
   ]
  },
  {
   "cell_type": "code",
   "execution_count": null,
   "metadata": {},
   "outputs": [],
   "source": [
    "# Define the batch size and image size\n",
    "BATCH_SIZE = 32\n",
    "IMG_HEIGHT, IMG_WIDTH = 224, 224"
   ]
  },
  {
   "cell_type": "markdown",
   "metadata": {},
   "source": [
    "### 2.5 Checking Column Names\n",
    "\n",
    "The code loads the CSV files from each directory into pandas DataFrames and prints the column names."
   ]
  },
  {
   "cell_type": "code",
   "execution_count": null,
   "metadata": {},
   "outputs": [],
   "source": [
    "# Check the columns name in each directory\n",
    "df_train = pd.read_csv(os.path.join(train_dir, '_classes.csv'))\n",
    "df_validation = pd.read_csv(os.path.join(val_dir, '_classes.csv'))\n",
    "df_test = pd.read_csv(os.path.join(test_dir, '_classes.csv'))\n",
    "\n",
    "# Print the columns name in each directory\n",
    "print(f\"Columns in the training directory: {df_train.columns}\\n\")\n",
    "print(f\"Columns in the validation directory: {df_validation.columns}\\n\")\n",
    "print(f\"Columns in the test directory: {df_test.columns}\\n\")"
   ]
  },
  {
   "cell_type": "markdown",
   "metadata": {},
   "source": [
    "> It seems there are some issues with the column names in the CSV files. We will remove the extra spaces from the column names."
   ]
  },
  {
   "cell_type": "markdown",
   "metadata": {},
   "source": [
    "### 2.6 Cleaning Column Names\n",
    "\n",
    "The code removes the trailing whitespace from the column names and checks the cleaned column names."
   ]
  },
  {
   "cell_type": "code",
   "execution_count": null,
   "metadata": {},
   "outputs": [],
   "source": [
    "# Remove the trailing whitespace from the column names\n",
    "df_train.columns = df_train.columns.str.strip()\n",
    "df_validation.columns = df_validation.columns.str.strip()\n",
    "df_test.columns = df_test.columns.str.strip()"
   ]
  },
  {
   "cell_type": "code",
   "execution_count": null,
   "metadata": {},
   "outputs": [],
   "source": [
    "# Check the trailing whitespace in the column names\n",
    "print(f\"Columns in the training directory: {df_train.columns}\\n\")\n",
    "print(f\"Columns in the validation directory: {df_validation.columns}\\n\")\n",
    "print(f\"Columns in the test directory: {df_test.columns}\\n\")"
   ]
  },
  {
   "cell_type": "markdown",
   "metadata": {},
   "source": [
    "## 3. Data Augmentation\n",
    "\n",
    "This section will cover the data augmentation process.\n",
    "\n",
    "The step by step process is as follows:\n",
    "\n",
    "1. Creating Data Generators - We will create data generators for the training, validation, and test sets.\n",
    "\n",
    "2. Visualizing Images - We will visualize some images from the training set to understand the data better.\n",
    "   \n",
    "3. Checking Labels - We will check the distribution of labels in the training, validation, and test sets.\n",
    "\n",
    "4. Checking Dataset Sizes - We will check the sizes of the training, validation, and test sets.\n",
    "\n",
    "5. Checking Batch Sizes - We will check the batch sizes of the data generators."
   ]
  },
  {
   "cell_type": "markdown",
   "metadata": {},
   "source": [
    "### 3.1 Creating Data Generators\n",
    "\n",
    "The code defines a function to create ImageDataGenerators for the training, validation, and test sets. It then calls this function to create the generators and generate a batch of data from each generator."
   ]
  },
  {
   "cell_type": "code",
   "execution_count": null,
   "metadata": {},
   "outputs": [],
   "source": [
    "def create_data_generators(train_dir, val_dir, test_dir, img_height, img_width, batch_size):\n",
    "    \"\"\"\n",
    "    This function creates ImageDataGenerators for the training, validation, and test sets.\n",
    "    It also loads the datasets from CSV files.\n",
    "\n",
    "    Parameters:\n",
    "    train_dir (str): The directory where the training set is located.\n",
    "    val_dir (str): The directory where the validation set is located.\n",
    "    test_dir (str): The directory where the test set is located.\n",
    "    img_height (int): The height of the images.\n",
    "    img_width (int): The width of the images.\n",
    "    batch_size (int): The batch size.\n",
    "\n",
    "    Returns:\n",
    "    tuple: A tuple containing the training, validation, and test generators.\n",
    "    \"\"\"\n",
    "    labels = ['Acne', 'Blackheads', 'Dark Spots', 'Dry Skin', 'Eye bags', 'Normal Skin', 'Oily Skin', 'Pores', 'Skin Redness', 'Wrinkles']\n",
    "\n",
    "    # Create an ImageDataGenerator for the training set\n",
    "    train_datagen = ImageDataGenerator(\n",
    "        rescale=1./255,\n",
    "        rotation_range=20,\n",
    "        zoom_range=0.2,\n",
    "        horizontal_flip=True,\n",
    "    )\n",
    "\n",
    "    # Create an ImageDataGenerator for the validation set\n",
    "    validation_datagen = ImageDataGenerator(rescale=1./255)\n",
    "\n",
    "    # Create an ImageDataGenerator for the test set\n",
    "    test_datagen = ImageDataGenerator(rescale=1./255)\n",
    "\n",
    "    # Load the training set from the CSV file\n",
    "    train_generator = train_datagen.flow_from_dataframe(\n",
    "        df_train,\n",
    "        directory=train_dir,\n",
    "        x_col='filename',\n",
    "        y_col=labels,\n",
    "        target_size=(img_height, img_width),\n",
    "        batch_size=batch_size,\n",
    "        class_mode='raw')\n",
    "\n",
    "    # Load the validation set from the CSV file\n",
    "    validation_generator = validation_datagen.flow_from_dataframe(\n",
    "        df_validation,\n",
    "        directory=val_dir,\n",
    "        x_col='filename',\n",
    "        y_col=labels,\n",
    "        target_size=(img_height, img_width),\n",
    "        batch_size=batch_size,\n",
    "        class_mode='raw')\n",
    "\n",
    "    # Load the test set from the CSV file\n",
    "    test_generator = test_datagen.flow_from_dataframe(\n",
    "        df_test,\n",
    "        directory=test_dir,\n",
    "        x_col='filename',\n",
    "        y_col=labels,\n",
    "        target_size=(img_height, img_width),\n",
    "        batch_size=batch_size,\n",
    "        class_mode='raw')\n",
    "\n",
    "    return train_generator, validation_generator, test_generator"
   ]
  },
  {
   "cell_type": "code",
   "execution_count": null,
   "metadata": {},
   "outputs": [],
   "source": [
    "# Test generator creation\n",
    "train_generator, validation_generator, test_generator = create_data_generators(train_dir, val_dir, test_dir, IMG_HEIGHT, IMG_WIDTH, BATCH_SIZE)\n",
    "\n",
    "# Generate a batch of data from each generator\n",
    "train_images, train_labels = next(train_generator)\n",
    "validation_images, validation_labels = next(validation_generator)\n",
    "test_images, test_labels = next(test_generator)\n",
    "\n",
    "print(\"\\n\")\n",
    "\n",
    "print(f\"Image of training generator have shape: {train_images.shape}\")\n",
    "print(f\"Image of validation generator have shape: {validation_images.shape}\")\n",
    "print(f\"Image of test generator have shape: {test_images.shape}\")\n",
    "\n",
    "print(\"\\n\")\n",
    "\n",
    "print(f\"Labels of training generator have shape: {train_labels.shape}\")\n",
    "print(f\"Labels of validation generator have shape: {validation_labels.shape}\")\n",
    "print(f\"Labels of test generator have shape: {test_labels.shape}\")"
   ]
  }
 ],
 "metadata": {
  "language_info": {
   "name": "python"
  }
 },
 "nbformat": 4,
 "nbformat_minor": 2
}
