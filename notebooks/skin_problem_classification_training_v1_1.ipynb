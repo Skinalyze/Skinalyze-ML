{
 "cells": [
  {
   "cell_type": "markdown",
   "metadata": {},
   "source": [
    "# Skin Problem Classification Notebook \n",
    "---"
   ]
  },
  {
   "cell_type": "markdown",
   "metadata": {},
   "source": [
    "## Team Information\n",
    "\n",
    "**Team ID:** C241-PS385  \n",
    "\n",
    "**Members:**    \n",
    "- Stefanus Bernard Melkisedek - [GitHub Profile](https://github.com/stefansphtr)\n",
    "- Debby Trinita - [GitHub Profile](https://github.com/debbytrinita)\n",
    "- Mhd. Reza Kurniawan Lubis - [GitHub Profile](https://github.com/rezakur)"
   ]
  },
  {
   "cell_type": "markdown",
   "metadata": {},
   "source": []
  },
  {
   "cell_type": "code",
   "execution_count": null,
   "metadata": {},
   "outputs": [],
   "source": []
  }
 ],
 "metadata": {
  "language_info": {
   "name": "python"
  }
 },
 "nbformat": 4,
 "nbformat_minor": 2
}
